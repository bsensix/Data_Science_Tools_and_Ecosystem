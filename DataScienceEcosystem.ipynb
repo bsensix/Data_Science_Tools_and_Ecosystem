{
 "cells": [
  {
   "cell_type": "markdown",
   "metadata": {},
   "source": [
    "# Data Science Tools and Ecosystem"
   ]
  },
  {
   "cell_type": "markdown",
   "metadata": {},
   "source": [
    "In this notebook, the data science tools and ecosystem are summarized according to what was studied during the course."
   ]
  },
  {
   "cell_type": "markdown",
   "metadata": {},
   "source": [
    "Some of the popular languages that Data Scientists use are:\n",
    "- Python\n",
    "- R\n",
    "- Julia \n",
    "- Scala"
   ]
  },
  {
   "cell_type": "markdown",
   "metadata": {},
   "source": [
    "Some of the commonly used libraries used by Data Scientists include:\n",
    "- NumPy\n",
    "- Keras\n",
    "- Pandas\n",
    "- PyTorch\n",
    "- SciPy\n",
    "- Scikit-Learn\n",
    "- TensorFlow\n",
    "- readr\n",
    "- stringr\n",
    "- ggplot2\n",
    "- lubridate\n",
    "- jsonlite\n",
    "- Shiny"
   ]
  },
  {
   "cell_type": "markdown",
   "metadata": {},
   "source": [
    "Data Science Tools\n",
    "| Open Source Tool | Description                                  |\n",
    "|-----------------------------|--------------------------------------------|\n",
    "| Python                      | Linguagem de programação amplamente utilizada na ciência de dados. |\n",
    "| Jupyter Notebook            | Ambiente interativo para a execução de código, visualização e documentação. |\n",
    "| Pandas                      | Biblioteca Python para manipulação e análise de dados. |\n",
    "| R                           | Linguagem de programação estatística amplamente utilizada na ciência de dados. |\n",
    "| NumPy                       | Biblioteca Python para computação numérica, especialmente eficiente para manipulação de arrays multidimensionais. |\n",
    "| TensorFlow                  | Biblioteca de código aberto para aprendizado de máquina e inteligência artificial desenvolvida pelo Google. |\n",
    "| Scikit-learn                | Biblioteca Python para aprendizado de máquina e mineração de dados. |\n",
    "| Matplotlib                  | Biblioteca Python para visualização de dados em gráficos estáticos, interativos ou animados. |\n",
    "| SciPy                       | Conjunto de bibliotecas Python para matemática, ciência e engenharia, incluindo módulos para otimização, álgebra linear, integração e interpolação. |\n",
    "| Apache Spark                | Plataforma de computação em cluster de código aberto e tolerante a falhas. Amplamente utilizada para processamento de dados em larga escala. |\n",
    "| PyTorch                     | Biblioteca de aprendizado de máquina de código aberto para Python, desenvolvida pelo Facebook. |\n",
    "| Seaborn                     | Biblioteca Python para visualização de dados baseada no Matplotlib, mas com uma interface de alto nível mais amigável. |\n"
   ]
  },
  {
   "cell_type": "markdown",
   "metadata": {},
   "source": []
  }
 ],
 "metadata": {
  "language_info": {
   "name": "python"
  }
 },
 "nbformat": 4,
 "nbformat_minor": 2
}
