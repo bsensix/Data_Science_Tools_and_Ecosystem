{
 "cells": [
  {
   "cell_type": "markdown",
   "metadata": {},
   "source": [
    "# Data Science Tools and Ecosystem"
   ]
  },
  {
   "cell_type": "markdown",
   "metadata": {},
   "source": [
    "In this notebook, the data science tools and ecosystem are summarized according to what was studied during the course."
   ]
  },
  {
   "cell_type": "markdown",
   "metadata": {},
   "source": [
    "Some of the popular languages that Data Scientists use are:\n",
    "- Python\n",
    "- R\n",
    "- Julia \n",
    "- Scala"
   ]
  },
  {
   "cell_type": "markdown",
   "metadata": {},
   "source": [
    "Some of the commonly used libraries used by Data Scientists include:\n",
    "- NumPy\n",
    "- Keras\n",
    "- Pandas\n",
    "- PyTorch\n",
    "- SciPy\n",
    "- Scikit-Learn\n",
    "- TensorFlow\n",
    "- readr\n",
    "- stringr\n",
    "- ggplot2\n",
    "- lubridate\n",
    "- jsonlite\n",
    "- Shiny"
   ]
  },
  {
   "cell_type": "markdown",
   "metadata": {},
   "source": [
    "Data Science Tools\n",
    "| Open Source Tool | Description                                  |\n",
    "|-----------------------------|--------------------------------------------|\n",
    "| Python                      | Widely-used programming language in data science. |\n",
    "| Jupyter Notebook            | Interactive environment for code execution, visualization, and documentation. |\n",
    "| Pandas                      | Python library for data manipulation and analysis. |\n",
    "| R                           | Widely-used statistical programming language in data science. |\n",
    "| NumPy                       | Python library for numerical computing, especially efficient for handling multidimensional arrays. |\n",
    "| TensorFlow                  | Open-source library for machine learning and artificial intelligence developed by Google. |\n",
    "| Scikit-learn                | Python library for machine learning and data mining. |\n",
    "| Matplotlib                  | Python library for data visualization in static, interactive, or animated graphics. |\n",
    "| SciPy                       | Set of Python libraries for mathematics, science, and engineering, including modules for optimization, linear algebra, integration, and interpolation. |\n",
    "| Apache Spark                | Open-source, fault-tolerant cluster computing platform. Widely used for large-scale data processing. |\n",
    "| PyTorch                     | Open-source machine learning library for Python, developed by Facebook. |\n",
    "| Seaborn                     | Python library for data visualization based on Matplotlib, but with a more user-friendly high-level interface. |\n"

   ]
  },
  {
   "cell_type": "markdown",
   "metadata": {},
   "source": []
  }
 ],
 "metadata": {
  "language_info": {
   "name": "python"
  }
 },
 "nbformat": 4,
 "nbformat_minor": 2
}
